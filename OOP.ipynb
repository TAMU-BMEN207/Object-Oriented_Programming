{
 "cells": [
  {
   "cell_type": "markdown",
   "id": "b4dd3f66",
   "metadata": {},
   "source": [
    "# Object Oriented Programming (OOP) "
   ]
  },
  {
   "cell_type": "markdown",
   "id": "f38367ea",
   "metadata": {},
   "source": [
    "@author Annice <br>\n",
    "Texas A&M University <br>\n",
    "BMEN 207<br>\n",
    "Date: 11/11/21 <br>\n",
    "Description: An introduction to object oriented programming"
   ]
  },
  {
   "cell_type": "markdown",
   "id": "bd82db8a",
   "metadata": {},
   "source": [
    "**Example Description:** Let's say we have a restaurant chef and we want to calculate the time it takes for the chef to prepare a meal. The amount of time it takes for the chef to prepare the food depends on the number of people who have ordered it and if n poeple order the same dish it takes n times for the chef to prepare it but for a three course meal it takes the maximum amount of time between the starter, main course or dessert to make it. (Not logical but that's how I want it to be :))"
   ]
  },
  {
   "cell_type": "code",
   "execution_count": 387,
   "id": "8a5f4715",
   "metadata": {},
   "outputs": [
    {
     "name": "stdout",
     "output_type": "stream",
     "text": [
      "It takes 45 mins for Rupert to prepare this order\n"
     ]
    }
   ],
   "source": [
    "###I have a chef named Rupert who is a 5 star chef\n",
    "name = 'Rupert'\n",
    "michelin_stars = 5\n",
    "#suppose the per meal prep time is the number of michelin stars subtracted from 6 and multipled by a specific number\n",
    "prep_time = {\n",
    "            'lemon chicken soup': 10,\n",
    "            'blackberry salad': 5,\n",
    "            'mushroom soup': 15,\n",
    "            'spaghetti and meatballs': 20,\n",
    "            'steak tartare': 2,\n",
    "            'chocolate cheesecake': 15,\n",
    "            'shepherd\\'s pie': 20,\n",
    "            'seared salmon': 15,\n",
    "            'apple pie': 20,\n",
    "            'potato soup': 15\n",
    "}\n",
    "#update prep times according to chef\n",
    "for key in prep_time:\n",
    "    prep_time[key] = (6 - michelin_stars)*prep_time[key]\n",
    "#customer places an order\n",
    "order = [(2, 'lemon chicken soup'), (2, 'spaghetti and meatballs'), (3, 'chocolate cheesecake')]\n",
    "#define starter, main and dessert\n",
    "starter = order[0]\n",
    "main = order[1]\n",
    "dessert = order[2]\n",
    "#calculate how long it takes for chef to prepare each meal\n",
    "starter_time = prep_time[starter[1]]*starter[0]\n",
    "main_time = prep_time[main[1]]*main[0]\n",
    "dessert_time = prep_time[dessert[1]]*dessert[0]\n",
    "#calculate total amount of time needed to prepare meal\n",
    "total_time = max(starter_time, main_time, dessert_time)\n",
    "print(f'It takes {total_time} mins for {name} to prepare this order')"
   ]
  },
  {
   "cell_type": "markdown",
   "id": "b922e2d0",
   "metadata": {},
   "source": [
    "Now if I were to hire another chef named Kate I would have to repeat all this code with Kate..."
   ]
  },
  {
   "cell_type": "code",
   "execution_count": 388,
   "id": "4449da56",
   "metadata": {},
   "outputs": [
    {
     "name": "stdout",
     "output_type": "stream",
     "text": [
      "It takes 180 mins for Kate to prepare this order\n"
     ]
    }
   ],
   "source": [
    "###I have a chef named Rupert who is a 5 star chef and prepares \n",
    "name = 'Kate'\n",
    "michelin_stars = 2\n",
    "#update prep times according to chef\n",
    "for key in prep_time:\n",
    "    prep_time[key] = (6 - michelin_stars)*prep_time[key]\n",
    "#customer places an order\n",
    "order = [(2, 'lemon chicken soup'), (2, 'spaghetti and meatballs'), (3, 'chocolate cheesecake')]\n",
    "#define starter, main and dessert\n",
    "starter = order[0]\n",
    "main = order[1]\n",
    "dessert = order[2]\n",
    "#calculate how long it takes for chef to prepare each meal\n",
    "starter_time = prep_time[starter[1]]*starter[0]\n",
    "main_time = prep_time[main[1]]*main[0]\n",
    "dessert_time = prep_time[dessert[1]]*dessert[0]\n",
    "#calculate total amount of time needed to prepare meal\n",
    "total_time = max(starter_time, main_time, dessert_time)\n",
    "print(f'It takes {total_time} mins for {name} to prepare this order')"
   ]
  },
  {
   "cell_type": "markdown",
   "id": "6a12f69c",
   "metadata": {},
   "source": [
    "What if we have 10 chefs, we keep repearting then?!"
   ]
  },
  {
   "cell_type": "markdown",
   "id": "edf78a19",
   "metadata": {},
   "source": [
    "<h3>Better way to do this to avoid repeating is to define functions</h3>"
   ]
  },
  {
   "cell_type": "code",
   "execution_count": 389,
   "id": "99064b63",
   "metadata": {},
   "outputs": [],
   "source": [
    "def update_prep_time(prep_time, stars):\n",
    "    prep_time_dic = dict(prep_time)\n",
    "    for key in prep_time_dic:\n",
    "        prep_time_dic[key] = (6 - stars)*prep_time_dic[key]\n",
    "    return prep_time_dic\n",
    "def calculate_time(order, prep_time):\n",
    "    #define starter, main and dessert\n",
    "    starter = order[0]\n",
    "    main = order[1]\n",
    "    dessert = order[2]\n",
    "    #calculate how long it takes for chef to prepare each meal\n",
    "    starter_time = prep_time[starter[1]]*starter[0]\n",
    "    main_time = prep_time[main[1]]*main[0]\n",
    "    dessert_time = prep_time[dessert[1]]*dessert[0]\n",
    "    #calculate total amount of time needed to prepare meal\n",
    "    total_time = max(starter_time, main_time, dessert_time)\n",
    "    return total_time"
   ]
  },
  {
   "cell_type": "code",
   "execution_count": 390,
   "id": "446adba3",
   "metadata": {},
   "outputs": [
    {
     "name": "stdout",
     "output_type": "stream",
     "text": [
      "It takes 45 mins for Rupert to prepare this order\n",
      "It takes 180 mins for Kate to prepare this order\n"
     ]
    }
   ],
   "source": [
    "prep_time = {\n",
    "            'lemon chicken soup': 10,\n",
    "            'blackberry salad': 5,\n",
    "            'mushroom soup': 15,\n",
    "            'spaghetti and meatballs': 20,\n",
    "            'steak tartare': 2,\n",
    "            'chocolate cheesecake': 15\n",
    "}\n",
    "chefs ={\n",
    "    'Rupert': 5,\n",
    "    'Kate': 2,\n",
    "}\n",
    "for name in chefs:\n",
    "    chef_stars = chefs[name]\n",
    "    chef_prep_time = update_prep_time(prep_time, chef_stars)\n",
    "    chef_total_time = calculate_time(order, chef_prep_time)\n",
    "    print(f'It takes {chef_total_time} mins for {name} to prepare this order')"
   ]
  },
  {
   "cell_type": "markdown",
   "id": "83cff420",
   "metadata": {},
   "source": [
    "But is there an even better way to do this, you will realize that programming like this will be complicated when you take into account more factors that affect prepration time or you want to know more information about what your chef does... "
   ]
  },
  {
   "cell_type": "markdown",
   "id": "d4939e86",
   "metadata": {},
   "source": [
    "<img src=\"food_vendor.jpg\" alt=\"food-vendor\" width=300>\n",
    "<img src=\"restaurant.jpg\" alt=\"food-vendor\" width=300>"
   ]
  },
  {
   "cell_type": "markdown",
   "id": "d8ea7a61",
   "metadata": {},
   "source": [
    "<h3>What are the differences between a food vendor and a restaurant?! Why is a restaurant better?</h3>"
   ]
  },
  {
   "cell_type": "markdown",
   "id": "ba1e1961",
   "metadata": {},
   "source": [
    "<img src=\"roles_2.jpg\" width=400>\n",
    "<img src=\"roles_1.jpg\" width=400>"
   ]
  },
  {
   "cell_type": "markdown",
   "id": "3c56e77a",
   "metadata": {},
   "source": [
    "<h3>Take the <em>chef</em> for example:</h3>\n",
    "<ul>\n",
    "    <li>The chef **has** a spatula, has a certain number of dishes, pots, pans, etc ... --> Attributes</li>\n",
    "    <li>The chef **does** cook food, receive orders --> Methods/ functions</li></ul>"
   ]
  },
  {
   "cell_type": "markdown",
   "id": "7b7d05c7",
   "metadata": {},
   "source": [
    "<h3>Defining Classes</h3>"
   ]
  },
  {
   "cell_type": "markdown",
   "id": "45f4f504",
   "metadata": {},
   "source": [
    "<img src=\"blueprint.jpg\" alt=\"blueprint\" width=300>\n",
    "<h4>This is a class --> Blueprint of a house</h4>\n",
    "<img src=\"house.jpg\" style=text-align: center; alt=\"house\" width=300>\n",
    "<h4>This is an object made from the class --> The actual house</h4>"
   ]
  },
  {
   "cell_type": "markdown",
   "id": "a0dcccf3",
   "metadata": {},
   "source": [
    "**Note: For this example we are assuming that if someone orders two dishes it takes twice the amount of time to prepare it but the amount of time it takes for the entire dish to be made is the maximum time "
   ]
  },
  {
   "cell_type": "markdown",
   "id": "ec200d2a",
   "metadata": {},
   "source": [
    "<h3>Let's define a blueprint for a chef</h3>"
   ]
  },
  {
   "cell_type": "code",
   "execution_count": 418,
   "id": "f0258321",
   "metadata": {},
   "outputs": [],
   "source": [
    "class chef:\n",
    "    ##Attributes##\n",
    "    spatula = 2\n",
    "    dishes = 100\n",
    "    spoons = 150\n",
    "    forks = 148\n",
    "    #constructor\n",
    "    def __init__(self, name, michelin_stars, prep_time):\n",
    "        self.name = name\n",
    "        self.michelin_stars = michelin_stars\n",
    "        self.prep_time = prep_time\n",
    "    #function for receiving orders\n",
    "    def prepare_order(self, order):\n",
    "        '''\n",
    "        function receives order and prints the time it takes for chef to prepare it\n",
    "        '''\n",
    "        starter = order[0]\n",
    "        main = order[1]\n",
    "        dessert = order[2]\n",
    "        return f'It takes {max(self.prepare_starter(starter), self.prepare_starter(main), self.prepare_starter(dessert))} mins for {self.name} to prepare the entire meal.'\n",
    "    #function for preparing starters based on the starter requested from chef\n",
    "    def prepare_starter(self, starter):\n",
    "        return self.prep_time[starter[1]]*starter[0]*(6-self.michelin_stars)\n",
    "    def prepare_main(self, main):\n",
    "        return self.prep_time[main[1]]*main[0]*(6-self.michelin_stars)\n",
    "    def prepare_dessert(self, dessert):\n",
    "        return self.prep_time[dessert[1]]*dessert[0]*(6-self.michelin_stars)"
   ]
  },
  {
   "cell_type": "markdown",
   "id": "1ec9eb64",
   "metadata": {},
   "source": [
    "<h3>Instantiate an Object from the Class</h3>"
   ]
  },
  {
   "cell_type": "code",
   "execution_count": 392,
   "id": "3ae0dbd0",
   "metadata": {},
   "outputs": [],
   "source": [
    " prep_time = {\n",
    "            'lemon chicken soup': 10,\n",
    "            'blackberry salad': 5,\n",
    "            'mushroom soup': 15,\n",
    "            'spaghetti and meatballs': 20,\n",
    "            'steak tartare': 2,\n",
    "            'chocolate cheesecake': 15\n",
    "    }"
   ]
  },
  {
   "cell_type": "code",
   "execution_count": 393,
   "id": "befeb820",
   "metadata": {},
   "outputs": [],
   "source": [
    "#Rupert is a 5 star chef\n",
    "Rupert = chef('Rupert', 5, dict(prep_time))"
   ]
  },
  {
   "cell_type": "code",
   "execution_count": 394,
   "id": "4550a0ff",
   "metadata": {
    "scrolled": true
   },
   "outputs": [
    {
     "name": "stdout",
     "output_type": "stream",
     "text": [
      "<__main__.chef object at 0x7f9e85858b20>\n"
     ]
    }
   ],
   "source": [
    "#What happens if I print Rupert... \n",
    "print(Rupert)"
   ]
  },
  {
   "cell_type": "code",
   "execution_count": 395,
   "id": "9654bcb2",
   "metadata": {
    "scrolled": true
   },
   "outputs": [
    {
     "data": {
      "text/plain": [
       "2"
      ]
     },
     "execution_count": 395,
     "metadata": {},
     "output_type": "execute_result"
    }
   ],
   "source": [
    "#Let's retrive one attribute from Rupert\n",
    "Rupert.spatula"
   ]
  },
  {
   "cell_type": "code",
   "execution_count": 396,
   "id": "f8dd46a3",
   "metadata": {},
   "outputs": [
    {
     "data": {
      "text/plain": [
       "5"
      ]
     },
     "execution_count": 396,
     "metadata": {},
     "output_type": "execute_result"
    }
   ],
   "source": [
    "#Let's retrieve the number of michelin stars\n",
    "Rupert.michelin_stars"
   ]
  },
  {
   "cell_type": "code",
   "execution_count": 397,
   "id": "223d8a3b",
   "metadata": {},
   "outputs": [],
   "source": [
    "#change the number of spoons Rupert has\n",
    "Rupert.spoons = 152"
   ]
  },
  {
   "cell_type": "code",
   "execution_count": 398,
   "id": "7d7e9052",
   "metadata": {},
   "outputs": [
    {
     "data": {
      "text/plain": [
       "152"
      ]
     },
     "execution_count": 398,
     "metadata": {},
     "output_type": "execute_result"
    }
   ],
   "source": [
    "#Print the number of spoons of Rupert again\n",
    "Rupert.spoons"
   ]
  },
  {
   "cell_type": "code",
   "execution_count": 399,
   "id": "da912924",
   "metadata": {},
   "outputs": [],
   "source": [
    "#A customer places an order\n",
    "order = [(2, 'lemon chicken soup'), (2, 'spaghetti and meatballs'), (3, 'chocolate cheesecake')]"
   ]
  },
  {
   "cell_type": "code",
   "execution_count": 400,
   "id": "01633f06",
   "metadata": {
    "scrolled": false
   },
   "outputs": [
    {
     "data": {
      "text/plain": [
       "'It takes 45 mins for Rupert to prepare the entire meal.'"
      ]
     },
     "execution_count": 400,
     "metadata": {},
     "output_type": "execute_result"
    }
   ],
   "source": [
    "#Make Rupert receive the order and print the time it takes for Rupert to prepare it. \n",
    "Rupert.prepare_order(order)"
   ]
  },
  {
   "cell_type": "code",
   "execution_count": 401,
   "id": "5612279d",
   "metadata": {},
   "outputs": [
    {
     "data": {
      "text/plain": [
       "20"
      ]
     },
     "execution_count": 401,
     "metadata": {},
     "output_type": "execute_result"
    }
   ],
   "source": [
    "Rupert.prepare_starter(order[0]) #how long does it take for Rupert to prepare the starter"
   ]
  },
  {
   "cell_type": "markdown",
   "id": "c94c7720",
   "metadata": {},
   "source": [
    "<h3>Define multiple objects</h3>"
   ]
  },
  {
   "cell_type": "code",
   "execution_count": 409,
   "id": "ad1e793a",
   "metadata": {},
   "outputs": [],
   "source": [
    "Kate = chef('Kate', 2, dict(prep_time)) "
   ]
  },
  {
   "cell_type": "code",
   "execution_count": 410,
   "id": "c1fc470f",
   "metadata": {},
   "outputs": [],
   "source": [
    "Kate.prep_time['lemon chicken soup']= 40"
   ]
  },
  {
   "cell_type": "code",
   "execution_count": 411,
   "id": "1b30f65e",
   "metadata": {},
   "outputs": [],
   "source": [
    "Kate.prep_time['mushroom soup']=35"
   ]
  },
  {
   "cell_type": "code",
   "execution_count": 412,
   "id": "c34b461e",
   "metadata": {},
   "outputs": [
    {
     "data": {
      "text/plain": [
       "'It takes 320 mins for Kate to prepare the entire meal.'"
      ]
     },
     "execution_count": 412,
     "metadata": {},
     "output_type": "execute_result"
    }
   ],
   "source": [
    "Kate.prepare_order(order)"
   ]
  },
  {
   "cell_type": "code",
   "execution_count": 413,
   "id": "2fbdb182",
   "metadata": {},
   "outputs": [
    {
     "data": {
      "text/plain": [
       "{'name': 'Rupert',\n",
       " 'michelin_stars': 5,\n",
       " 'prep_time': {'lemon chicken soup': 10,\n",
       "  'blackberry salad': 5,\n",
       "  'mushroom soup': 15,\n",
       "  'spaghetti and meatballs': 20,\n",
       "  'steak tartare': 2,\n",
       "  'chocolate cheesecake': 15},\n",
       " 'spoons': 152}"
      ]
     },
     "execution_count": 413,
     "metadata": {},
     "output_type": "execute_result"
    }
   ],
   "source": [
    "vars(Rupert)"
   ]
  },
  {
   "cell_type": "code",
   "execution_count": 414,
   "id": "e5a259f9",
   "metadata": {},
   "outputs": [
    {
     "data": {
      "text/plain": [
       "{'lemon chicken soup': 10,\n",
       " 'blackberry salad': 5,\n",
       " 'mushroom soup': 15,\n",
       " 'spaghetti and meatballs': 20,\n",
       " 'steak tartare': 2,\n",
       " 'chocolate cheesecake': 15}"
      ]
     },
     "execution_count": 414,
     "metadata": {},
     "output_type": "execute_result"
    }
   ],
   "source": [
    "prep_time"
   ]
  },
  {
   "cell_type": "markdown",
   "id": "4d29c89f",
   "metadata": {},
   "source": [
    "<h3>Same program using classes</h3>"
   ]
  },
  {
   "cell_type": "code",
   "execution_count": 416,
   "id": "b5575318",
   "metadata": {},
   "outputs": [
    {
     "name": "stdout",
     "output_type": "stream",
     "text": [
      "It takes It takes 45 mins for Rupert to prepare the entire meal. mins for Rupert to prepare the order\n",
      "It takes It takes 180 mins for Kate to prepare the entire meal. mins for Kate to prepare the order\n"
     ]
    }
   ],
   "source": [
    "order = [(2, 'lemon chicken soup'), (2, 'spaghetti and meatballs'), (3, 'chocolate cheesecake')]\n",
    "#Rupert\n",
    "Rupert = chef('Rupert', 5, dict(prep_time))\n",
    "print(f'It takes {Rupert.prepare_order(order)} mins for {Rupert.name} to prepare the order')\n",
    "#Kate\n",
    "Kate = chef('Kate', 2, dict(prep_time))\n",
    "print(f'It takes {Kate.prepare_order(order)} mins for {Kate.name} to prepare the order')"
   ]
  },
  {
   "cell_type": "markdown",
   "id": "9859dc24",
   "metadata": {},
   "source": [
    "Much simpler and cleaner"
   ]
  },
  {
   "cell_type": "code",
   "execution_count": null,
   "id": "27f541de",
   "metadata": {},
   "outputs": [],
   "source": [
    "class student:\n",
    "    def __init__(self, self.gpa, self.age):\n",
    "        "
   ]
  },
  {
   "cell_type": "markdown",
   "id": "cc064b18",
   "metadata": {},
   "source": [
    "```Texas A&M University<br>\n",
    "College Station, TX, **==<br>\n",
    "Fall 2021```"
   ]
  }
 ],
 "metadata": {
  "kernelspec": {
   "display_name": "Python 3",
   "language": "python",
   "name": "python3"
  },
  "language_info": {
   "codemirror_mode": {
    "name": "ipython",
    "version": 3
   },
   "file_extension": ".py",
   "mimetype": "text/x-python",
   "name": "python",
   "nbconvert_exporter": "python",
   "pygments_lexer": "ipython3",
   "version": "3.8.8"
  }
 },
 "nbformat": 4,
 "nbformat_minor": 5
}
