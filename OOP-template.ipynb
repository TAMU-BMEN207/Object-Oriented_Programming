{
 "cells": [
  {
   "cell_type": "markdown",
   "id": "b4dd3f66",
   "metadata": {},
   "source": [
    "# Object Oriented Programming (OOP) "
   ]
  },
  {
   "cell_type": "markdown",
   "id": "453fd6a5",
   "metadata": {},
   "source": [
    "@author Annice <br>\n",
    "Texas A&M University <br>\n",
    "BMEN 207<br>\n",
    "Date: 11/11/21 <br>\n",
    "Description: An introduction to object oriented programming"
   ]
  },
  {
   "cell_type": "markdown",
   "id": "5ffa5d21",
   "metadata": {},
   "source": [
    "**Example Description:** Let's say we have a restaurant chef and we want to calculate the time it takes for the chef to prepare a meal. The amount of time it takes for the chef to prepare the food depends on the number of people who have ordered it and if n poeple order the same dish it takes n times for the chef to prepare it but for a three course meal it takes the maximum amount of time between the starter, main course or dessert to make it. (Not logical but that's how I want it to be :))"
   ]
  },
  {
   "cell_type": "markdown",
   "id": "7aec483d",
   "metadata": {},
   "source": [
    "<h3>Bad Programming Practice</h3>"
   ]
  },
  {
   "cell_type": "code",
   "execution_count": 5,
   "id": "9bf37d57",
   "metadata": {
    "scrolled": false
   },
   "outputs": [
    {
     "name": "stdout",
     "output_type": "stream",
     "text": [
      "It takes 45 mins for Rupert to prepare this order\n"
     ]
    }
   ],
   "source": [
    "###I have a chef named Rupert who is a 5 star chef\n",
    "name = 'Rupert'\n",
    "michelin_stars = 5\n",
    "#suppose the per meal prep time is the number of michelin stars subtracted from 6 and multipled by a specific number\n",
    "prep_time = {\n",
    "            'lemon chicken soup': 10,\n",
    "            'blackberry salad': 5,\n",
    "            'mushroom soup': 15,\n",
    "            'spaghetti and meatballs': 20,\n",
    "            'steak tartare': 2,\n",
    "            'chocolate cheesecake': 15,\n",
    "            'shepherd\\'s pie': 20,\n",
    "            'seared salmon': 15,\n",
    "            'apple pie': 20,\n",
    "            'potato soup': 15\n",
    "}\n",
    "#update prep times according to chef\n",
    "for key in prep_time:\n",
    "    prep_time[key] = (6 - michelin_stars)*prep_time[key]\n",
    "#customer places an order\n",
    "order = [(2, 'lemon chicken soup'), (2, 'spaghetti and meatballs'), (3, 'chocolate cheesecake')]\n",
    "#define starter, main and dessert\n",
    "starter = order[0]\n",
    "main = order[1]\n",
    "dessert = order[2]\n",
    "#calculate how long it takes for chef to prepare each meal\n",
    "starter_time = prep_time[starter[1]]*starter[0]\n",
    "main_time = prep_time[main[1]]*main[0]\n",
    "dessert_time = prep_time[dessert[1]]*dessert[0]\n",
    "#calculate total amount of time needed to prepare meal\n",
    "total_time = max(starter_time, main_time, dessert_time)\n",
    "print(f'It takes {total_time} mins for {name} to prepare this order')"
   ]
  },
  {
   "cell_type": "markdown",
   "id": "a9ac70b6",
   "metadata": {},
   "source": [
    "Now if I were to hire another chef named Kate I would have to repeat all this code with Kate..."
   ]
  },
  {
   "cell_type": "code",
   "execution_count": 6,
   "id": "4935b49d",
   "metadata": {},
   "outputs": [
    {
     "name": "stdout",
     "output_type": "stream",
     "text": [
      "It takes 180 mins for Kate to prepare this order\n"
     ]
    }
   ],
   "source": [
    "###I have a chef named Rupert who is a 5 star chef and prepares \n",
    "name = 'Kate'\n",
    "michelin_stars = 2\n",
    "#update prep times according to chef\n",
    "for key in prep_time:\n",
    "    prep_time[key] = (6 - michelin_stars)*prep_time[key]\n",
    "#customer places an order\n",
    "order = [(2, 'lemon chicken soup'), (2, 'spaghetti and meatballs'), (3, 'chocolate cheesecake')]\n",
    "#define starter, main and dessert\n",
    "starter = order[0]\n",
    "main = order[1]\n",
    "dessert = order[2]\n",
    "#calculate how long it takes for chef to prepare each meal\n",
    "starter_time = prep_time[starter[1]]*starter[0]\n",
    "main_time = prep_time[main[1]]*main[0]\n",
    "dessert_time = prep_time[dessert[1]]*dessert[0]\n",
    "#calculate total amount of time needed to prepare meal\n",
    "total_time = max(starter_time, main_time, dessert_time)\n",
    "print(f'It takes {total_time} mins for {name} to prepare this order')"
   ]
  },
  {
   "cell_type": "markdown",
   "id": "b8423c6a",
   "metadata": {},
   "source": [
    "What if we have 10 chefs, we keep repearting then?!"
   ]
  },
  {
   "cell_type": "markdown",
   "id": "b68c685c",
   "metadata": {},
   "source": [
    "<h3>Better way to do this to avoid repeating is to define functions</h3>"
   ]
  },
  {
   "cell_type": "code",
   "execution_count": 7,
   "id": "bf7628cc",
   "metadata": {},
   "outputs": [],
   "source": [
    "def update_prep_time(prep_time, stars):\n",
    "    prep_time_dict = dict(prep_time)\n",
    "    for key in prep_time_dict:\n",
    "        prep_time_dict[key] = (6-stars)*prep_time_dict[key]\n",
    "    return prep_time_dict\n",
    "\n",
    "def calculate_time(order, prep_time):\n",
    "    starter = order[0]\n",
    "    main = order[1]\n",
    "    dessert = order[2]\n",
    "    starter_time = prep_time[starter[1]]*starter[0]\n",
    "    main_time = prep_time[main[1]]*main[0]\n",
    "    dessert_time = prep_time[dessert[1]]*dessert[0]\n",
    "    total_time = max(starter_time, main_time, dessert_time)\n",
    "    return total_time"
   ]
  },
  {
   "cell_type": "code",
   "execution_count": 8,
   "id": "db387212",
   "metadata": {},
   "outputs": [
    {
     "name": "stdout",
     "output_type": "stream",
     "text": [
      "It takes 45 mins for Rupert to prepare this order\n",
      "It takes 180 mins for Kate to prepare this order\n"
     ]
    }
   ],
   "source": [
    "prep_time = {\n",
    "            'lemon chicken soup': 10,\n",
    "            'blackberry salad': 5,\n",
    "            'mushroom soup': 15,\n",
    "            'spaghetti and meatballs': 20,\n",
    "            'steak tartare': 2,\n",
    "            'chocolate cheesecake': 15\n",
    "}\n",
    "chefs ={\n",
    "    'Rupert': 5,\n",
    "    'Kate': 2,\n",
    "}\n",
    "for name in chefs:\n",
    "    chef_stars = chefs[name]\n",
    "    chef_prep_time = update_prep_time(prep_time, chef_stars)\n",
    "    chef_total_time = calculate_time(order, chef_prep_time)\n",
    "    print(f'It takes {chef_total_time} mins for {name} to prepare this order')"
   ]
  },
  {
   "cell_type": "markdown",
   "id": "1fd3468b",
   "metadata": {},
   "source": [
    "But is there an even better way to do this, you will realize that programming like this will be complicated when you take into account more factors that affect prepration time or you want to know more information about what your chef does... or you want to modify your functions slightly..."
   ]
  },
  {
   "cell_type": "markdown",
   "id": "c0d2a181",
   "metadata": {},
   "source": [
    "<img src=\"food_vendor.jpg\" alt=\"food-vendor\" width=300>\n",
    "<img src=\"restaurant.jpg\" alt=\"food-vendor\" width=300>"
   ]
  },
  {
   "cell_type": "markdown",
   "id": "020357d4",
   "metadata": {},
   "source": [
    "<h3>What are the differences between a food vendor and a restaurant?! Why is a restaurant better?</h3>"
   ]
  },
  {
   "cell_type": "markdown",
   "id": "0868dd8f",
   "metadata": {},
   "source": [
    "<img src=\"roles_2.jpg\" width=400>\n",
    "<img src=\"roles_1.jpg\" width=400>"
   ]
  },
  {
   "cell_type": "markdown",
   "id": "157911a8",
   "metadata": {},
   "source": [
    "<h3>Take the <em>chef</em> for example:</h3>\n",
    "<ul>\n",
    "    <li>The chef **has** a spatula, has a certain number of dishes, pots, pans, etc ... --> Attributes</li>\n",
    "    <li>The chef **does** cook food, receive orders --> Methods/ functions</li></ul>"
   ]
  },
  {
   "cell_type": "markdown",
   "id": "d8c582d7",
   "metadata": {},
   "source": [
    "<h3>Defining Classes</h3>"
   ]
  },
  {
   "cell_type": "markdown",
   "id": "eb628fd0",
   "metadata": {},
   "source": [
    "<img src=\"blueprint.jpg\" alt=\"blueprint\" width=300>\n",
    "<h4>This is a class --> Blueprint of a house</h4>\n",
    "<img src=\"house.jpg\" style=text-align: center; alt=\"house\" width=300>\n",
    "<h4>This is an object made from the class --> The actual house</h4>"
   ]
  },
  {
   "cell_type": "markdown",
   "id": "5e8a6aab",
   "metadata": {},
   "source": [
    "**Note: For this example we are assuming that if someone orders two dishes it takes twice the amount of time to prepare it but the amount of time it takes for the entire dish to be made is the maximum time "
   ]
  },
  {
   "cell_type": "markdown",
   "id": "62b6ea66",
   "metadata": {},
   "source": [
    "<h3>Let's define a blueprint for a chef</h3>"
   ]
  },
  {
   "cell_type": "code",
   "execution_count": 21,
   "id": "fc35938b",
   "metadata": {},
   "outputs": [],
   "source": [
    "#Define class here\n",
    "class chef:\n",
    "    spoons = 150\n",
    "    dishes = 80\n",
    "    forks = 148\n",
    "    def __init__(self, name, michelin_star, prep_time):\n",
    "        self.name = name\n",
    "        self.michelin_star = michelin_star\n",
    "        self.prep_time = prep_time\n",
    "    def prepare_order(self, order):\n",
    "        starter = order[0]\n",
    "        main = order[1]\n",
    "        dessert = order[2]\n",
    "        return f'It takes {max(self.prepare_starter(starter), self.prepare_starter(main), self.prepare_starter(dessert))} mins for {self.name} to prepare the entire meal. '\n",
    "    def prepare_starter(self, starter):\n",
    "        return self.prep_time[starter[1]]*starter[0]*(6-self.michelin_star)\n",
    "    def prepare_main(self, main):\n",
    "        return self.prep_time[main[1]]*main[0]*(6-self.michelin_star)\n",
    "    def prepare_starter(self, starter):\n",
    "        return self.prep_time[dessert[1]]*dessert[0]*(6-self.michelin_star)"
   ]
  },
  {
   "cell_type": "markdown",
   "id": "41ce3261",
   "metadata": {},
   "source": [
    "<h3>Instantiate an Object from the Class</h3>"
   ]
  },
  {
   "cell_type": "code",
   "execution_count": 22,
   "id": "db2fcbb2",
   "metadata": {},
   "outputs": [],
   "source": [
    " prep_time = {\n",
    "            'lemon chicken soup': 10,\n",
    "            'blackberry salad': 5,\n",
    "            'mushroom soup': 15,\n",
    "            'spaghetti and meatballs': 20,\n",
    "            'steak tartare': 2,\n",
    "            'chocolate cheesecake': 15\n",
    "    }"
   ]
  },
  {
   "cell_type": "code",
   "execution_count": 23,
   "id": "dff23306",
   "metadata": {},
   "outputs": [],
   "source": [
    "#Rupert is a 5 star chef\n",
    "Rupert = chef('Rupert', 5, dict(prep_time))"
   ]
  },
  {
   "cell_type": "code",
   "execution_count": 24,
   "id": "464fc0db",
   "metadata": {
    "scrolled": true
   },
   "outputs": [
    {
     "data": {
      "text/plain": [
       "<__main__.chef at 0x7f8aa9b9c3d0>"
      ]
     },
     "execution_count": 24,
     "metadata": {},
     "output_type": "execute_result"
    }
   ],
   "source": [
    "#What happens if I print Rupert... \n",
    "Rupert"
   ]
  },
  {
   "cell_type": "code",
   "execution_count": 25,
   "id": "de2c688e",
   "metadata": {
    "scrolled": true
   },
   "outputs": [
    {
     "data": {
      "text/plain": [
       "150"
      ]
     },
     "execution_count": 25,
     "metadata": {},
     "output_type": "execute_result"
    }
   ],
   "source": [
    "#Let's retrive one attribute from Rupert\n",
    "Rupert.spoons"
   ]
  },
  {
   "cell_type": "code",
   "execution_count": 26,
   "id": "79cdf19d",
   "metadata": {},
   "outputs": [
    {
     "data": {
      "text/plain": [
       "5"
      ]
     },
     "execution_count": 26,
     "metadata": {},
     "output_type": "execute_result"
    }
   ],
   "source": [
    "#Let's retrieve the number of michelin stars\n",
    "Rupert.michelin_star"
   ]
  },
  {
   "cell_type": "code",
   "execution_count": 27,
   "id": "7f2b5126",
   "metadata": {},
   "outputs": [],
   "source": [
    "#change the number of spoons Rupert has\n",
    "Rupert.spoons = 130"
   ]
  },
  {
   "cell_type": "code",
   "execution_count": 28,
   "id": "b2e50399",
   "metadata": {},
   "outputs": [
    {
     "data": {
      "text/plain": [
       "130"
      ]
     },
     "execution_count": 28,
     "metadata": {},
     "output_type": "execute_result"
    }
   ],
   "source": [
    "#Print the number of spoons of Rupert again\n",
    "Rupert.spoons"
   ]
  },
  {
   "cell_type": "code",
   "execution_count": 29,
   "id": "988a11fd",
   "metadata": {},
   "outputs": [],
   "source": [
    "#A customer places an order\n",
    "order = [(2, 'lemon chicken soup'), (2, 'spaghetti and meatballs'), (3, 'chocolate cheesecake')]"
   ]
  },
  {
   "cell_type": "code",
   "execution_count": 30,
   "id": "63e2e109",
   "metadata": {
    "scrolled": false
   },
   "outputs": [
    {
     "data": {
      "text/plain": [
       "'It takes 45 mins for Rupert to prepare the entire meal. '"
      ]
     },
     "execution_count": 30,
     "metadata": {},
     "output_type": "execute_result"
    }
   ],
   "source": [
    "#Make Rupert receive the order and print the time it takes for Rupert to prepare it. \n",
    "Rupert.prepare_order(order)"
   ]
  },
  {
   "cell_type": "code",
   "execution_count": 31,
   "id": "4c3392e9",
   "metadata": {},
   "outputs": [
    {
     "data": {
      "text/plain": [
       "45"
      ]
     },
     "execution_count": 31,
     "metadata": {},
     "output_type": "execute_result"
    }
   ],
   "source": [
    "#how long does it take for Rupert to prepare the starter\n",
    "Rupert.prepare_starter(order)"
   ]
  },
  {
   "cell_type": "markdown",
   "id": "ebc993d7",
   "metadata": {},
   "source": [
    "<h3>Define multiple objects</h3>"
   ]
  },
  {
   "cell_type": "code",
   "execution_count": 32,
   "id": "c5345a71",
   "metadata": {},
   "outputs": [],
   "source": [
    "#define Kate\n",
    "Kate = chef('Kate', 2, dict(prep_time))"
   ]
  },
  {
   "cell_type": "code",
   "execution_count": 33,
   "id": "136f1cde",
   "metadata": {},
   "outputs": [],
   "source": [
    "#Change the amount of time it takes for Kate to prepare a food\n",
    "Kate.prep_time['lemon chicken soup'] = 40"
   ]
  },
  {
   "cell_type": "code",
   "execution_count": 35,
   "id": "9f7f0d8b",
   "metadata": {},
   "outputs": [],
   "source": [
    "Kate.prep_time['mushroom soup'] = 35"
   ]
  },
  {
   "cell_type": "code",
   "execution_count": 36,
   "id": "35b340be",
   "metadata": {},
   "outputs": [
    {
     "data": {
      "text/plain": [
       "'It takes 180 mins for Kate to prepare the entire meal. '"
      ]
     },
     "execution_count": 36,
     "metadata": {},
     "output_type": "execute_result"
    }
   ],
   "source": [
    "#Print how long it takes for Kate to prepare the order\n",
    "Kate.prepare_order(order)"
   ]
  },
  {
   "cell_type": "code",
   "execution_count": 37,
   "id": "69a54395",
   "metadata": {},
   "outputs": [
    {
     "data": {
      "text/plain": [
       "{'name': 'Kate',\n",
       " 'michelin_star': 2,\n",
       " 'prep_time': {'lemon chicken soup': 40,\n",
       "  'blackberry salad': 5,\n",
       "  'mushroom soup': 35,\n",
       "  'spaghetti and meatballs': 20,\n",
       "  'steak tartare': 2,\n",
       "  'chocolate cheesecake': 15}}"
      ]
     },
     "execution_count": 37,
     "metadata": {},
     "output_type": "execute_result"
    }
   ],
   "source": [
    "#check all attributes of Kate\n",
    "vars(Kate)"
   ]
  },
  {
   "cell_type": "markdown",
   "id": "fc82c898",
   "metadata": {},
   "source": [
    "<h3>Same program using classes</h3>"
   ]
  },
  {
   "cell_type": "code",
   "execution_count": 38,
   "id": "c01f723e",
   "metadata": {},
   "outputs": [
    {
     "name": "stdout",
     "output_type": "stream",
     "text": [
      "It takes It takes 45 mins for Rupert to prepare the entire meal.  mins for Rupert to prepare the order\n",
      "It takes It takes 180 mins for Kate to prepare the entire meal.  mins for Kate to prepare the order\n"
     ]
    }
   ],
   "source": [
    "order = [(2, 'lemon chicken soup'), (2, 'spaghetti and meatballs'), (3, 'chocolate cheesecake')]\n",
    "#Rupert\n",
    "Rupert = chef('Rupert', 5, dict(prep_time))\n",
    "print(f'It takes {Rupert.prepare_order(order)} mins for {Rupert.name} to prepare the order')\n",
    "#Kate\n",
    "Kate = chef('Kate', 2, dict(prep_time))\n",
    "print(f'It takes {Kate.prepare_order(order)} mins for {Kate.name} to prepare the order')\n"
   ]
  },
  {
   "cell_type": "markdown",
   "id": "b278fe75",
   "metadata": {},
   "source": [
    "Much simpler and cleaner"
   ]
  },
  {
   "cell_type": "markdown",
   "id": "605cfc3e",
   "metadata": {},
   "source": [
    "```Texas A&M University<br>\n",
    "College Station, TX, **==<br>\n",
    "Fall 2021```"
   ]
  }
 ],
 "metadata": {
  "kernelspec": {
   "display_name": "Python 3",
   "language": "python",
   "name": "python3"
  },
  "language_info": {
   "codemirror_mode": {
    "name": "ipython",
    "version": 3
   },
   "file_extension": ".py",
   "mimetype": "text/x-python",
   "name": "python",
   "nbconvert_exporter": "python",
   "pygments_lexer": "ipython3",
   "version": "3.8.8"
  }
 },
 "nbformat": 4,
 "nbformat_minor": 5
}
